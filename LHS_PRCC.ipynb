{
  "nbformat": 4,
  "nbformat_minor": 0,
  "metadata": {
    "colab": {
      "name": "Copy of LHS-PRCC.ipynb",
      "version": "0.3.2",
      "provenance": [],
      "collapsed_sections": [],
      "include_colab_link": true
    },
    "language_info": {
      "codemirror_mode": {
        "name": "ipython",
        "version": 3
      },
      "file_extension": ".py",
      "mimetype": "text/x-python",
      "name": "python",
      "nbconvert_exporter": "python",
      "pygments_lexer": "ipython3",
      "version": "3.7.3"
    },
    "kernelspec": {
      "display_name": "Python 3",
      "language": "python",
      "name": "python3"
    }
  },
  "cells": [
    {
      "cell_type": "markdown",
      "metadata": {
        "id": "view-in-github",
        "colab_type": "text"
      },
      "source": [
        "<a href=\"https://colab.research.google.com/github/scmassey/model-sensitivity-analysis/blob/master/LHS_PRCC.ipynb\" target=\"_parent\"><img src=\"https://colab.research.google.com/assets/colab-badge.svg\" alt=\"Open In Colab\"/></a>"
      ]
    },
    {
      "cell_type": "markdown",
      "metadata": {
        "id": "LynXJ5FPHndO",
        "colab_type": "text"
      },
      "source": [
        "# Latin Hypercube Sampling & Partial Rank Correlation Coefficients  <br/> *~ a method for analyzing model sensitivity to parameters ~*"
      ]
    },
    {
      "cell_type": "markdown",
      "metadata": {
        "id": "PHmmvxwMHndP",
        "colab_type": "text"
      },
      "source": [
        "#### Importing packages that will be used."
      ]
    },
    {
      "cell_type": "code",
      "metadata": {
        "id": "ZC6x-a7WHndQ",
        "colab_type": "code",
        "colab": {}
      },
      "source": [
        "import numpy as np\n",
        "\n",
        "from scipy import special\n",
        "\n",
        "import random\n",
        "\n",
        "from ipywidgets import interact, interactive, fixed, interact_manual\n",
        "import ipywidgets as widgets\n",
        "from IPython.display import display\n",
        "\n",
        "import pandas as pd\n",
        "\n",
        "import matplotlib.pyplot as plt\n"
      ],
      "execution_count": 0,
      "outputs": []
    },
    {
      "cell_type": "markdown",
      "metadata": {
        "id": "U0_okb6XHndS",
        "colab_type": "text"
      },
      "source": [
        "#### Specify the number of parameters to sample and the number of samples to draw from each parameter distribution."
      ]
    },
    {
      "cell_type": "code",
      "metadata": {
        "id": "EZy2ndbCHndT",
        "colab_type": "code",
        "colab": {}
      },
      "source": [
        "#  Number of parameters to sample (don't include add'l parameters you would like to leave fixed): \n",
        "parameterCount = 2;\n",
        "\n",
        "#  Number of samples to draw (recommend 25 to 1000; Higher numbers yield better results, but also takes longer):\n",
        "sampleCount = 100; "
      ],
      "execution_count": 0,
      "outputs": []
    },
    {
      "cell_type": "markdown",
      "metadata": {
        "id": "i2vYkow7HndV",
        "colab_type": "text"
      },
      "source": [
        "#### Define the function for drawing samples from a user-specified parameter distribution."
      ]
    },
    {
      "cell_type": "code",
      "metadata": {
        "id": "O0kGl8MKHndV",
        "colab_type": "code",
        "colab": {}
      },
      "source": [
        "def sampleDistrib(modelParamName,distrib,distribSpecs): \n",
        "    \n",
        "    if distrib == 'uniform':\n",
        "        \n",
        "#         mymin = widgets.FloatText(\n",
        "#                 value=0,\n",
        "#                 description='Minimum:',\n",
        "#                 disabled=False\n",
        "#               )\n",
        "#         mymax = widgets.FloatText(\n",
        "#                 value=5,\n",
        "#                 description='Maximum:',\n",
        "#                 disabled=False\n",
        "#               )\n",
        "        \n",
        "#         display(mymin, mymax)\n",
        "        \n",
        "#         mmin = mymin.value\n",
        "#         mmax = mymax.value\n",
        "\n",
        "        mmin = distribSpecs[0]\n",
        "        mmax = distribSpecs[1]\n",
        "        \n",
        "        intervalwidth = (mmax - mmin) / sampleCount        # width of sampling interval\n",
        "        \n",
        "        samples = []\n",
        "        \n",
        "        for sample in range(sampleCount):\n",
        "            \n",
        "            lower = mmin + intervalwidth * (sample-1)      # lower bound of sampling interval\n",
        "            upper = mmin + intervalwidth * (sample)        # upper bound of sampling interval\n",
        "            \n",
        "            sampleVal = np.random.uniform(lower, upper)       # draw a random sample within the interval\n",
        "            \n",
        "            samples.append(sampleVal)\n",
        "\n",
        "    \n",
        "    \n",
        "    elif distrib == 'normal':\n",
        "        \n",
        "#         mymean = widgets.FloatText(\n",
        "#                 value=1,\n",
        "#                 description='Mean:',\n",
        "#                 disabled=False\n",
        "#               ) \n",
        "#         myvar  = widgets.FloatText(\n",
        "#                 value=1,\n",
        "#                 description='Variance:',\n",
        "#                 disabled=False\n",
        "#               ) \n",
        "        \n",
        "#         display(mymean, myvar)\n",
        "        \n",
        "#         mmean = mymean.value\n",
        "#         mvar = myvar.value\n",
        "        \n",
        "        mmean= distribSpecs[0]\n",
        "        mvar = distribSpecs[1]\n",
        "        \n",
        "        lower = mvar * np.sqrt(2) * special.erfinv(-0.9999) + mmean   # lowest bound of parameter values, \n",
        "                                                           # initial sampling inverval lower bound\n",
        "        samples = []\n",
        "        \n",
        "        for sample in range(sampleCount):\n",
        "            \n",
        "            upper = mvar * np.sqrt(2) * special.erfinv(2 / sampleCount + special.erf(lower - mmean) / (mvar * np.sqrt(2))) + mmean   # upper bound of sampling interval\n",
        " \n",
        "            sampleVal = np.random.uniform(lower, upper)       # draw a random sample within the interval\n",
        "            \n",
        "            samples.append(sampleVal)\n",
        "\n",
        "            lower = upper         # set current upper bound as the lower bound for the next iteration\n",
        "            \n",
        "\n",
        "    \n",
        "    elif distrib == 'triangle':\n",
        "        \n",
        "#         mymin  = widgets.FloatText(\n",
        "#                 value=0,\n",
        "#                 description='Minimum:',\n",
        "#                 disabled=False\n",
        "#               )\n",
        "#         mymax  = widgets.FloatText(\n",
        "#                 value=2,\n",
        "#                 description='Maximum:',\n",
        "#                 disabled=False\n",
        "#               )\n",
        "#         mymode = widgets.FloatText(\n",
        "#                 value=1,\n",
        "#                 description='Mode:',\n",
        "#                 disabled=False\n",
        "#               )\n",
        "        \n",
        "#         display(mymin, mymax, mymode)\n",
        "        \n",
        "#         mmin = mymin.value\n",
        "#         mmax = mymax.value\n",
        "#         mmode=mymode.value\n",
        "        \n",
        "        mmin = distribSpecs[0]\n",
        "        mmax = distribSpecs[1]\n",
        "        mmode= distribSpecs[2]\n",
        "    \n",
        "        samples = []\n",
        "        \n",
        "        for sample in range(sampleCount):\n",
        "            \n",
        "            intervalarea = 1/sampleCount \n",
        "            \n",
        "            ylower = intervalarea*(sample-1)  # looking at cdf read off area as y values, and convert\n",
        "            yupper = intervalarea*(sample)    # to get x values, which are same in cdf as in pdf\n",
        "        \n",
        "        \n",
        "            # Check to see if y values = cdf(x <= mmode) for calculating correxponding x values:\n",
        "            \n",
        "            if ylower <= ((mmode - mmin)/(mmax - mmin)):     \n",
        "                lower = np.sqrt(ylower * (mmax - mmin) * (mmode - mmin)) + mmin \n",
        "\n",
        "            else:\n",
        "                lower = mmax - np.sqrt((1 - ylower) * (mmax - mmin) * (mmax - mmode))\n",
        "\n",
        "            \n",
        "            if yupper <= ((mmode - mmin)/(mmax - mmin)):    \n",
        "                upper = np.sqrt(yupper * (mmax - mmin) * (mmode - mmin)) + mmin; \n",
        "\n",
        "            else:\n",
        "                upper = mmax - np.sqrt((1 - yupper) * (mmax - mmin) * (mmax - mmode));  \n",
        "\n",
        "                \n",
        "            sampleVal = np.random.uniform(lower, upper)   \n",
        "            \n",
        "            samples.append(sampleVal)\n",
        "            \n",
        "            \n",
        "#     parameters[modelParamName] = samples\n",
        "    \n",
        "    plt.hist(samples,density=1, bins=5) \n",
        "    plt.show()\n",
        "    \n",
        "    # TO DO: This is where I would also add some plot commands to show the distribution specified, the intervals\n",
        "    # and where the samples were drawn (latter for low sampleCount only) - or maybe just show a histogram?\n",
        "    \n",
        "    return samples # TO DO: Or do I want to return parameters here?"
      ],
      "execution_count": 0,
      "outputs": []
    },
    {
      "cell_type": "markdown",
      "metadata": {
        "id": "9K7C0uUHHndX",
        "colab_type": "text"
      },
      "source": [
        "#### Call to the above function using interactive - user can use the boxes and dropdowns to specify parameter distributions and draw samples. \n",
        "## TRY USING ASYNCIO TO PAUSE FOR USER INPUT BEFORE GENERATING THE SAMPLES"
      ]
    },
    {
      "cell_type": "code",
      "metadata": {
        "scrolled": false,
        "id": "mDjrr9jbHndY",
        "colab_type": "code",
        "outputId": "82f68c44-d879-4d98-b1b4-35cd34ed0148",
        "colab": {}
      },
      "source": [
        "parameters = {}\n",
        "for param in range(parameterCount):\n",
        "    myDict={}\n",
        "    \n",
        "    s=str(param)\n",
        "    modelParamName = widgets.Text(value='Type parameter ' + s + ' name here',description='Name:')\n",
        "    distrib = widgets.Dropdown(options = ['uniform','normal','triangle'],description='Distribution:',)\n",
        "\n",
        "    display(modelParamName, distrib)\n",
        "    \n",
        "    distribSpecs = [0,5]\n",
        "\n",
        "    if distrib.value == 'uniform':\n",
        "\n",
        "            mymin = widgets.FloatText(\n",
        "                    value=0,\n",
        "                    description='Minimum:',\n",
        "                    disabled=False\n",
        "                  )\n",
        "            mymax = widgets.FloatText(\n",
        "                    value=5,\n",
        "                    description='Maximum:',\n",
        "                    disabled=False\n",
        "                  )\n",
        "\n",
        "            display(mymin, mymax)\n",
        "\n",
        "            mmin = mymin.value\n",
        "            mmax = mymax.value\n",
        "\n",
        "            distribSpecs = [mmin,mmax]\n",
        "            \n",
        "            myDict[modelParamName.value] = sampleDistrib(modelParamName.value,distrib.value,distribSpecs)\n",
        "\n",
        "    elif distrib.value == 'normal':\n",
        "\n",
        "            mymean = widgets.FloatText(\n",
        "                    value=1,\n",
        "                    description='Mean:',\n",
        "                    disabled=False\n",
        "                  ) \n",
        "            myvar  = widgets.FloatText(\n",
        "                    value=1,\n",
        "                    description='Variance:',\n",
        "                    disabled=False\n",
        "                  ) \n",
        "\n",
        "            display(mymean, myvar)\n",
        "\n",
        "            mmean = mymean.value\n",
        "            mvar = myvar.value\n",
        "\n",
        "            distribSpecs = [mmean,mvar]\n",
        "            \n",
        "            myDict[modelParamName.value] = sampleDistrib(modelParamName.value,distrib.value,distribSpecs)\n",
        "\n",
        "    elif distrib.value == 'triangle':\n",
        "\n",
        "            mymin  = widgets.FloatText(\n",
        "                    value=0,\n",
        "                    description='Minimum:',\n",
        "                    disabled=False\n",
        "                  )\n",
        "            mymax  = widgets.FloatText(\n",
        "                    value=2,\n",
        "                    description='Maximum:',\n",
        "                    disabled=False\n",
        "                  )\n",
        "            mymode = widgets.FloatText(\n",
        "                    value=1,\n",
        "                    description='Mode:',\n",
        "                    disabled=False\n",
        "                  )\n",
        "\n",
        "            display(mymin, mymax, mymode)\n",
        "\n",
        "            mmin = mymin.value\n",
        "            mmax = mymax.value\n",
        "            mmode=mymode.value\n",
        "\n",
        "            distribSpecs = [mmin,mmax,mmode]\n",
        "            \n",
        "            myDict[modelParamName.value] = sampleDistrib(modelParamName.value,distrib.value,distribSpecs)\n",
        "\n",
        "    parameters.update(myDict);\n",
        "    "
      ],
      "execution_count": 0,
      "outputs": [
        {
          "output_type": "display_data",
          "data": {
            "application/vnd.jupyter.widget-view+json": {
              "model_id": "2f2dd7c60bfc45a2999ed7a2d4b6c50c",
              "version_major": 2,
              "version_minor": 0
            },
            "text/plain": [
              "interactive(children=(Text(value='Type your parameter name here', description='modelParamName'), Dropdown(desc…"
            ]
          },
          "metadata": {
            "tags": []
          }
        }
      ]
    },
    {
      "cell_type": "markdown",
      "metadata": {
        "id": "PdQAUyAB_QYY",
        "colab_type": "text"
      },
      "source": [
        "#### Randomly permute each set of parameter samples in order to randomly pair the samples to more fully sample the parameter space for the Monte Carlo simulations."
      ]
    },
    {
      "cell_type": "code",
      "metadata": {
        "id": "HFdaJckHHnde",
        "colab_type": "code",
        "outputId": "79a8513b-b92e-43cf-cfb1-00c7e7cffc86",
        "colab": {}
      },
      "source": [
        "#  Now need to put samples in a matrix and randomly permute the columns... after I figure out how to go\n",
        "#  through a loop for all the different parameters (probably in the function call above?) I just don't understand\n",
        "#  what is being passed from that in order to put them in the matrix...\n",
        "\n",
        "LHSparams=[]\n",
        "\n",
        "for p in parameters:\n",
        "    \n",
        "    temp = parameters[p]\n",
        "    random.shuffle(temp)\n",
        "    \n",
        "    LHSparams.append(temp)"
      ],
      "execution_count": 0,
      "outputs": [
        {
          "output_type": "error",
          "ename": "AttributeError",
          "evalue": "'interactive' object has no attribute 'size'",
          "traceback": [
            "\u001b[0;31m---------------------------------------------------------------------------\u001b[0m",
            "\u001b[0;31mAttributeError\u001b[0m                            Traceback (most recent call last)",
            "\u001b[0;32m<ipython-input-108-1db185ac685d>\u001b[0m in \u001b[0;36m<module>\u001b[0;34m\u001b[0m\n\u001b[1;32m      3\u001b[0m \u001b[0;31m#  what is being passed from that in order to put them in the matrix...\u001b[0m\u001b[0;34m\u001b[0m\u001b[0;34m\u001b[0m\u001b[0;34m\u001b[0m\u001b[0m\n\u001b[1;32m      4\u001b[0m \u001b[0;34m\u001b[0m\u001b[0m\n\u001b[0;32m----> 5\u001b[0;31m \u001b[0mparameters\u001b[0m\u001b[0;34m.\u001b[0m\u001b[0msize\u001b[0m\u001b[0;34m\u001b[0m\u001b[0;34m\u001b[0m\u001b[0m\n\u001b[0m",
            "\u001b[0;31mAttributeError\u001b[0m: 'interactive' object has no attribute 'size'"
          ]
        }
      ]
    },
    {
      "cell_type": "markdown",
      "metadata": {
        "id": "6ad1XNtD_lvN",
        "colab_type": "text"
      },
      "source": [
        "## Define your model function here -\n",
        "### A trivial example has been provided,  but in practice may call an ode or pde solver."
      ]
    },
    {
      "cell_type": "code",
      "metadata": {
        "id": "T67BWVNT_p7F",
        "colab_type": "code",
        "colab": {}
      },
      "source": [
        "def testlinear(x,sampledParams,unsampledParams):\n",
        "\n",
        "    m = sampledParams[0]\n",
        "    b = sampledParams[1]\n",
        "    \n",
        "    a = unsampledParams[0]\n",
        "\n",
        "    y = m * x + b + a;\n",
        "\n",
        "    return y    "
      ],
      "execution_count": 0,
      "outputs": []
    },
    {
      "cell_type": "markdown",
      "metadata": {
        "id": "gFMg4Lzl_z3T",
        "colab_type": "text"
      },
      "source": [
        "#### Run Monte Carlo simulations  \n",
        "## TO DO: I need to modify matlab code dropped in below; don't forget to add code to plot outputs with error bars"
      ]
    },
    {
      "cell_type": "code",
      "metadata": {
        "id": "aAtqOL4P_2GP",
        "colab_type": "code",
        "colab": {}
      },
      "source": [
        "# % Specify the independent variables you will pass to the model function in a vector\n",
        "# x = linspace(0,10,101); % spatial domain for my testlinear function\n",
        "# % t = linspace(0,17,171);% time vector w/ number of time steps desired for kineticpdgfpdes\n",
        "\n",
        "# % Specify values of any unsampled parameters to pass to the function\n",
        "# unsampledps =  2; \n",
        "\n",
        "# % Don't forget any solver parameters if needed: \n",
        "# % w = 2; %spherical symmetry = 2 for pdepe.m to solve kineticpdgfpdes\n",
        "\n",
        "# Simdata = struct; %place where all output data will be stored for computing PRCCs \n",
        "\n",
        "# tic % start measuring time to solve equations\n",
        "# for j=1:N   \n",
        "#     sampledparams=A(j,1:M);\n",
        "#     fprintf('Parameters passed for sample: ');fprintf('%u',j);fprintf(' of ');fprintf('%u\\n',N);\n",
        "    \n",
        "# %  EDIT THE FOLLOWING FUNCTION CALL--can name multiple outputs as in commented example below\n",
        "# %  Also make sure everything passes to your function correctly and all initial conditions,\n",
        "# %  etc. are specified before entering this for loop over j.\n",
        "#     Simdata(j).y=testlinear(x,sampledparams,unsampledps);\n",
        "# % %     sol = pdepe(w,@kineticpdgfpdes,@pdgfpdesic,@pdgfpdesbc,x,t); %make sure the right set of pdes are used\n",
        "# % %     Simdata(...\n",
        "\n",
        "\n",
        "\n",
        "# TL=length(x);\n",
        "# %Creating L, matrix of all outputs at each time, for each of the N samples\n",
        "# L=zeros(TL,N);\n",
        "# R=zeros(TL,N);  \n",
        "# for i=1:TL\n",
        "#     for k=1:N\n",
        "#             L(i,k)=Simdata(k).y(i);\n",
        "#     end\n",
        "# end\n",
        "# Z=L';% {want mean and std dev computed with each day kept together, looking at variability across samples,\n",
        "#      % {and returned as a row vector rather than a column vector (why use Z=L' instead of L)\n",
        "# pause(.2)\n",
        "\n",
        "# figure(6)       \n",
        "# Y=mean(Z);   \n",
        "# E=std(Z);\n",
        "# errorbar(x,Y,E)\n",
        "# xlabel('x')\n",
        "# ylabel(labelstring)\n",
        "# title(['Error bar plot of ',labelstring,' from LHS simulations']);\n",
        "# pause(5)\n",
        "# figurelabel1=(['LHSgeneral-N',num2str(N),'-',labelstring,'-ErrorbarPlot.fig']);\n",
        "# figurelabel2=(['LHSgeneral-N',num2str(N),'-',labelstring,'-ErrorbarPlot.png']);\n",
        "# saveas(gcf,figurelabel1);\n",
        "# saveas(gcf,figurelabel2);"
      ],
      "execution_count": 0,
      "outputs": []
    },
    {
      "cell_type": "markdown",
      "metadata": {
        "id": "3XF6evQB_6ZN",
        "colab_type": "text"
      },
      "source": [
        "#### Compute partial rank correlation coefficients to compare simulation outputs with parameters\n",
        "## TO DO: Next need PRCC codes... then plots of those."
      ]
    },
    {
      "cell_type": "code",
      "metadata": {
        "id": "PUDdPQR-AAs-",
        "colab_type": "code",
        "colab": {}
      },
      "source": [
        ""
      ],
      "execution_count": 0,
      "outputs": []
    },
    {
      "cell_type": "markdown",
      "metadata": {
        "id": "LjX_iUL0Hndh",
        "colab_type": "text"
      },
      "source": [
        "#### BELOW CONTAINS EXAMPLES AND SUCH TO KEEP HANDY IN CASE NEED TO BORROW :) "
      ]
    },
    {
      "cell_type": "code",
      "metadata": {
        "id": "GjHlLsccHndh",
        "colab_type": "code",
        "colab": {}
      },
      "source": [
        "# Initializing matrices that will hold samples for the Monte Carlo simulations later\n",
        "A=np.zeros(sampleCount,parameterCount)\n",
        "B=np.zeros(sampleCount,parameterCount)   #,sampleCount):\n",
        "\n",
        "#  TO DO: B(n,m)=parameters(m).sampleVal(n); %store the sample value in the B matrix\n",
        "\n",
        "# To add with user input tools (widgets and the like) - will have to initialize first, \n",
        "# then update the \"append\" as each is named and sampled - or might need to specify field\n",
        "# for each if user is actively changing (?)\n",
        "parameters = []\n",
        "# This is where user interface things will pop up... \n",
        "parameters.append({'name': 'slope', 'samples': [1, 2, 3, 4]})\n",
        "parameters.append({'name': 'intercept', 'samples':[2, 5, 7, 11]})\n",
        "\n",
        "myMap = {}\n",
        "\n",
        "test = \"foo\"\n",
        "\n",
        "myMap[test] = \"bar\"\n",
        "\n",
        "print(myMap)\n",
        "\n",
        "\n",
        "sampleCount = 10\n",
        "\n",
        "samples = []\n",
        "\n",
        "for sample in range(sampleCount):\n",
        "    myDict = {}\n",
        "    myDict.D = getRandomStuff()\n",
        "    myDict.rho = getOtherRandomStff();\n",
        "    \n",
        "    samples.append(myDict);"
      ],
      "execution_count": 0,
      "outputs": []
    },
    {
      "cell_type": "code",
      "metadata": {
        "id": "La_nsO_qHndm",
        "colab_type": "code",
        "outputId": "c792b968-9c5a-4811-93ed-6b8fe0e55ea0",
        "colab": {}
      },
      "source": [
        "mmin = widgets.FloatText(\n",
        "        value=0,\n",
        "        description='Minimum:',\n",
        "        disabled=False\n",
        "       )\n",
        "mmax = widgets.FloatText(\n",
        "        value=0,\n",
        "        description='Maximum:',\n",
        "        disabled=False\n",
        ")\n",
        "mmode = widgets.FloatText(\n",
        "        value=0,\n",
        "        description='Mode:',\n",
        "        disabled=False\n",
        ")\n",
        "\n",
        "display(mmin, mmax, mmode)"
      ],
      "execution_count": 0,
      "outputs": [
        {
          "output_type": "display_data",
          "data": {
            "application/vnd.jupyter.widget-view+json": {
              "model_id": "a45a07f2b7a148d3bb73da9870785679",
              "version_major": 2,
              "version_minor": 0
            },
            "text/plain": [
              "FloatText(value=0.0, description='Minimum:')"
            ]
          },
          "metadata": {
            "tags": []
          }
        },
        {
          "output_type": "display_data",
          "data": {
            "application/vnd.jupyter.widget-view+json": {
              "model_id": "8f18bfa59a074feabb78bc7fe4de8f43",
              "version_major": 2,
              "version_minor": 0
            },
            "text/plain": [
              "FloatText(value=0.0, description='Maximum:')"
            ]
          },
          "metadata": {
            "tags": []
          }
        },
        {
          "output_type": "display_data",
          "data": {
            "application/vnd.jupyter.widget-view+json": {
              "model_id": "310c0319f1a54893a620e918ecd20371",
              "version_major": 2,
              "version_minor": 0
            },
            "text/plain": [
              "FloatText(value=0.0, description='Mode:')"
            ]
          },
          "metadata": {
            "tags": []
          }
        }
      ]
    },
    {
      "cell_type": "code",
      "metadata": {
        "id": "V-fHdLr-Hndp",
        "colab_type": "code",
        "outputId": "4cfe1a70-0d47-40ec-a029-1b71881eed1e",
        "colab": {}
      },
      "source": [
        ""
      ],
      "execution_count": 0,
      "outputs": [
        {
          "output_type": "error",
          "ename": "NameError",
          "evalue": "name 'lower' is not defined",
          "traceback": [
            "\u001b[0;31m---------------------------------------------------------------------------\u001b[0m",
            "\u001b[0;31mNameError\u001b[0m                                 Traceback (most recent call last)",
            "\u001b[0;32m<ipython-input-72-ec00f99fbe9d>\u001b[0m in \u001b[0;36m<module>\u001b[0;34m\u001b[0m\n\u001b[0;32m----> 1\u001b[0;31m \u001b[0mlower\u001b[0m\u001b[0;34m\u001b[0m\u001b[0;34m\u001b[0m\u001b[0m\n\u001b[0m",
            "\u001b[0;31mNameError\u001b[0m: name 'lower' is not defined"
          ]
        }
      ]
    },
    {
      "cell_type": "code",
      "metadata": {
        "id": "SO78_s2LHndr",
        "colab_type": "code",
        "colab": {}
      },
      "source": [
        ""
      ],
      "execution_count": 0,
      "outputs": []
    }
  ]
}