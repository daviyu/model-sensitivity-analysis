{
 "cells": [
  {
   "cell_type": "markdown",
   "metadata": {},
   "source": [
    "# Latin Hypercube Sampling & Partial Rank Correlation Coefficients  <br/> *~ a method for analyzing model sensitivity to parameters ~*"
   ]
  },
  {
   "cell_type": "markdown",
   "metadata": {},
   "source": [
    "#### Importing packages that will be used."
   ]
  },
  {
   "cell_type": "code",
   "execution_count": 103,
   "metadata": {},
   "outputs": [],
   "source": [
    "import numpy as np\n",
    "\n",
    "from scipy import special\n",
    "\n",
    "from ipywidgets import interact, interactive, fixed, interact_manual\n",
    "import ipywidgets as widgets\n",
    "from IPython.display import display\n",
    "\n",
    "import pandas as pd\n",
    "\n",
    "import matplotlib.pyplot as plt\n"
   ]
  },
  {
   "cell_type": "markdown",
   "metadata": {},
   "source": [
    "#### Specify the number of parameters to sample and the number of samples to draw from each parameter distribution."
   ]
  },
  {
   "cell_type": "code",
   "execution_count": 104,
   "metadata": {},
   "outputs": [],
   "source": [
    "#  Number of parameters to sample (don't include add'l parameters you would like to leave fixed): \n",
    "parameterCount = 2;\n",
    "\n",
    "#  Number of samples to draw (recommend 25 to 1000; Higher numbers yield better results, but also takes longer):\n",
    "sampleCount = 100; \n",
    "\n",
    "# # Initializing matrices that will hold samples for the Monte Carlo simulations later\n",
    "# # TO DO: I actually think this should come later\n",
    "# A=np.zeros(sampleCount,parameterCount)\n",
    "# B=np.zeros(sampleCount,parameterCount)"
   ]
  },
  {
   "cell_type": "markdown",
   "metadata": {},
   "source": [
    "#### Define the function for drawing samples from a user-specified parameter distribution."
   ]
  },
  {
   "cell_type": "code",
   "execution_count": 105,
   "metadata": {},
   "outputs": [],
   "source": [
    "def sampleDistrib(modelParamName,distrib): \n",
    "    \n",
    "    parameters = {}\n",
    "    \n",
    "    if distrib == 'uniform':\n",
    "        \n",
    "        mymin = widgets.FloatText(\n",
    "                value=0,\n",
    "                description='Minimum:',\n",
    "                disabled=False\n",
    "              )\n",
    "        mymax = widgets.FloatText(\n",
    "                value=5,\n",
    "                description='Maximum:',\n",
    "                disabled=False\n",
    "              )\n",
    "        \n",
    "        display(mymin, mymax)\n",
    "        \n",
    "        mmin = mymin.value\n",
    "        mmax = mymax.value\n",
    "        \n",
    "        intervalwidth = (mmax - mmin) / sampleCount        # width of sampling interval\n",
    "        \n",
    "        samples = []\n",
    "        \n",
    "        for sample in range(sampleCount):\n",
    "            \n",
    "            lower = mmin + intervalwidth * (sample-1)      # lower bound of sampling interval\n",
    "            upper = mmin + intervalwidth * (sample)        # upper bound of sampling interval\n",
    "            \n",
    "            sampleVal = np.random.uniform(lower, upper)       # draw a random sample within the interval\n",
    "            \n",
    "            samples.append(sampleVal)\n",
    "\n",
    "    \n",
    "    \n",
    "    elif distrib == 'normal':\n",
    "        \n",
    "        mymean = widgets.FloatText(\n",
    "                value=1,\n",
    "                description='Mean:',\n",
    "                disabled=False\n",
    "              ) \n",
    "        myvar  = widgets.FloatText(\n",
    "                value=1,\n",
    "                description='Variance:',\n",
    "                disabled=False\n",
    "              ) \n",
    "        \n",
    "        display(mymean, myvar)\n",
    "        \n",
    "        mmean = mymean.value\n",
    "        mvar = myvar.value\n",
    "        \n",
    "        lower = mvar * np.sqrt(2) * special.erfinv(-0.9999) + mmean   # lowest bound of parameter values, \n",
    "                                                           # initial sampling inverval lower bound\n",
    "        samples = []\n",
    "        \n",
    "        for sample in range(sampleCount):\n",
    "            \n",
    "            upper = mvar * np.sqrt(2) * special.erfinv(2 / sampleCount + special.erf(lower - mmean) / (mvar * np.sqrt(2))) + mmean   # upper bound of sampling interval\n",
    " \n",
    "            sampleVal = np.random.uniform(lower, upper)       # draw a random sample within the interval\n",
    "            \n",
    "            samples.append(sampleVal)\n",
    "\n",
    "            lower = upper         # set current upper bound as the lower bound for the next iteration\n",
    "            \n",
    "\n",
    "    \n",
    "    elif distrib == 'triangle':\n",
    "        \n",
    "        mymin  = widgets.FloatText(\n",
    "                value=0,\n",
    "                description='Minimum:',\n",
    "                disabled=False\n",
    "              )\n",
    "        mymax  = widgets.FloatText(\n",
    "                value=2,\n",
    "                description='Maximum:',\n",
    "                disabled=False\n",
    "              )\n",
    "        mymode = widgets.FloatText(\n",
    "                value=1,\n",
    "                description='Mode:',\n",
    "                disabled=False\n",
    "              )\n",
    "        \n",
    "        display(mymin, mymax, mymode)\n",
    "        \n",
    "        mmin = mymin.value\n",
    "        mmax = mymax.value\n",
    "        mmode=mymode.value\n",
    "    \n",
    "        samples = []\n",
    "        \n",
    "        for sample in range(sampleCount):\n",
    "            \n",
    "            intervalarea = 1/sampleCount \n",
    "            \n",
    "            ylower = intervalarea*(sample-1)  # looking at cdf read off area as y values, and convert\n",
    "            yupper = intervalarea*(sample)    # to get x values, which are same in cdf as in pdf\n",
    "        \n",
    "        \n",
    "            # Check to see if y values = cdf(x <= mmode) for calculating correxponding x values:\n",
    "            \n",
    "            if ylower <= ((mmode - mmin)/(mmax - mmin)):     \n",
    "                lower = np.sqrt(ylower * (mmax - mmin) * (mmode - mmin)) + mmin \n",
    "\n",
    "            else:\n",
    "                lower = mmax - np.sqrt((1 - ylower) * (mmax - mmin) * (mmax - mmode))\n",
    "\n",
    "            \n",
    "            if yupper <= ((mmode - mmin)/(mmax - mmin)):    \n",
    "                upper = np.sqrt(yupper * (mmax - mmin) * (mmode - mmin)) + mmin; \n",
    "\n",
    "            else:\n",
    "                upper = mmax - np.sqrt((1 - yupper) * (mmax - mmin) * (mmax - mmode));  \n",
    "\n",
    "                \n",
    "            sampleVal = np.random.uniform(lower, upper)   \n",
    "            \n",
    "            samples.append(sampleVal)\n",
    "            \n",
    "            \n",
    "    parameters[modelParamName] = samples\n",
    "    \n",
    "    plt.hist(samples,density=1, bins=5) \n",
    "    plt.show()\n",
    "    \n",
    "    # TO DO: This is where I would also add some plot commands to show the distribution specified, the intervals\n",
    "    # and where the samples were drawn (latter for low sampleCount only) - or maybe just show a histogram?\n",
    "    \n",
    "    return parameters # samples # TO DO: Or do I want to return parameters here?"
   ]
  },
  {
   "cell_type": "markdown",
   "metadata": {},
   "source": [
    "#### Call to the above function using interactive - user can use the boxes and dropdowns to specify parameter distributions and draw samples. TO DO: ADD PLOTS SHOWING THE DRAWN SAMPLES AND OR A HISTOGRAM? NOT SURE IF THAT GOES IN FUNCTION OR BELOW THE CALL. "
   ]
  },
  {
   "cell_type": "code",
   "execution_count": 107,
   "metadata": {
    "scrolled": false
   },
   "outputs": [
    {
     "data": {
      "application/vnd.jupyter.widget-view+json": {
       "model_id": "2f2dd7c60bfc45a2999ed7a2d4b6c50c",
       "version_major": 2,
       "version_minor": 0
      },
      "text/plain": [
       "interactive(children=(Text(value='Type your parameter name here', description='modelParamName'), Dropdown(desc…"
      ]
     },
     "metadata": {},
     "output_type": "display_data"
    }
   ],
   "source": [
    "parameters = interactive(sampleDistrib,\n",
    "                modelParamName='Type your parameter name here',\n",
    "                distrib=['uniform','normal','triangle']\n",
    "               )\n",
    "                \n",
    "display(parameters)"
   ]
  },
  {
   "cell_type": "code",
   "execution_count": 108,
   "metadata": {},
   "outputs": [
    {
     "ename": "AttributeError",
     "evalue": "'interactive' object has no attribute 'size'",
     "output_type": "error",
     "traceback": [
      "\u001b[0;31m---------------------------------------------------------------------------\u001b[0m",
      "\u001b[0;31mAttributeError\u001b[0m                            Traceback (most recent call last)",
      "\u001b[0;32m<ipython-input-108-1db185ac685d>\u001b[0m in \u001b[0;36m<module>\u001b[0;34m\u001b[0m\n\u001b[1;32m      3\u001b[0m \u001b[0;31m#  what is being passed from that in order to put them in the matrix...\u001b[0m\u001b[0;34m\u001b[0m\u001b[0;34m\u001b[0m\u001b[0;34m\u001b[0m\u001b[0m\n\u001b[1;32m      4\u001b[0m \u001b[0;34m\u001b[0m\u001b[0m\n\u001b[0;32m----> 5\u001b[0;31m \u001b[0mparameters\u001b[0m\u001b[0;34m.\u001b[0m\u001b[0msize\u001b[0m\u001b[0;34m\u001b[0m\u001b[0;34m\u001b[0m\u001b[0m\n\u001b[0m",
      "\u001b[0;31mAttributeError\u001b[0m: 'interactive' object has no attribute 'size'"
     ]
    }
   ],
   "source": [
    "#  Now need to put samples in a matrix and randomly permute the columns... after I figure out how to go\n",
    "#  through a loop for all the different parameters (probably in the function call above?) I just don't understand\n",
    "#  what is being passed from that in order to put them in the matrix...\n",
    "\n",
    "parameters.size\n"
   ]
  },
  {
   "cell_type": "markdown",
   "metadata": {},
   "source": [
    "#### BELOW CONTAINS EXAMPLES AND SUCH TO KEEP HANDY IN CASE NEED TO BORROW :) "
   ]
  },
  {
   "cell_type": "code",
   "execution_count": null,
   "metadata": {},
   "outputs": [],
   "source": [
    "# Initializing matrices that will hold samples for the Monte Carlo simulations later\n",
    "A=np.zeros(sampleCount,parameterCount)\n",
    "B=np.zeros(sampleCount,parameterCount)   #,sampleCount):\n",
    "\n",
    "#  TO DO: B(n,m)=parameters(m).sampleVal(n); %store the sample value in the B matrix\n",
    "\n",
    "# To add with user input tools (widgets and the like) - will have to initialize first, \n",
    "# then update the \"append\" as each is named and sampled - or might need to specify field\n",
    "# for each if user is actively changing (?)\n",
    "parameters = []\n",
    "# This is where user interface things will pop up... \n",
    "parameters.append({'name': 'slope', 'samples': [1, 2, 3, 4]})\n",
    "parameters.append({'name': 'intercept', 'samples':[2, 5, 7, 11]})\n",
    "\n",
    "myMap = {}\n",
    "\n",
    "test = \"foo\"\n",
    "\n",
    "myMap[test] = \"bar\"\n",
    "\n",
    "print(myMap)\n",
    "\n",
    "\n",
    "sampleCount = 10\n",
    "\n",
    "samples = []\n",
    "\n",
    "for sample in range(sampleCount):\n",
    "    myDict = {}\n",
    "    myDict.D = getRandomStuff()\n",
    "    myDict.rho = getOtherRandomStff();\n",
    "    \n",
    "    samples.append(myDict);"
   ]
  },
  {
   "cell_type": "code",
   "execution_count": 65,
   "metadata": {},
   "outputs": [
    {
     "data": {
      "application/vnd.jupyter.widget-view+json": {
       "model_id": "a45a07f2b7a148d3bb73da9870785679",
       "version_major": 2,
       "version_minor": 0
      },
      "text/plain": [
       "FloatText(value=0.0, description='Minimum:')"
      ]
     },
     "metadata": {},
     "output_type": "display_data"
    },
    {
     "data": {
      "application/vnd.jupyter.widget-view+json": {
       "model_id": "8f18bfa59a074feabb78bc7fe4de8f43",
       "version_major": 2,
       "version_minor": 0
      },
      "text/plain": [
       "FloatText(value=0.0, description='Maximum:')"
      ]
     },
     "metadata": {},
     "output_type": "display_data"
    },
    {
     "data": {
      "application/vnd.jupyter.widget-view+json": {
       "model_id": "310c0319f1a54893a620e918ecd20371",
       "version_major": 2,
       "version_minor": 0
      },
      "text/plain": [
       "FloatText(value=0.0, description='Mode:')"
      ]
     },
     "metadata": {},
     "output_type": "display_data"
    }
   ],
   "source": [
    "mmin = widgets.FloatText(\n",
    "        value=0,\n",
    "        description='Minimum:',\n",
    "        disabled=False\n",
    "       )\n",
    "mmax = widgets.FloatText(\n",
    "        value=0,\n",
    "        description='Maximum:',\n",
    "        disabled=False\n",
    ")\n",
    "mmode = widgets.FloatText(\n",
    "        value=0,\n",
    "        description='Mode:',\n",
    "        disabled=False\n",
    ")\n",
    "\n",
    "display(mmin, mmax, mmode)"
   ]
  },
  {
   "cell_type": "code",
   "execution_count": 72,
   "metadata": {},
   "outputs": [
    {
     "ename": "NameError",
     "evalue": "name 'lower' is not defined",
     "output_type": "error",
     "traceback": [
      "\u001b[0;31m---------------------------------------------------------------------------\u001b[0m",
      "\u001b[0;31mNameError\u001b[0m                                 Traceback (most recent call last)",
      "\u001b[0;32m<ipython-input-72-ec00f99fbe9d>\u001b[0m in \u001b[0;36m<module>\u001b[0;34m\u001b[0m\n\u001b[0;32m----> 1\u001b[0;31m \u001b[0mlower\u001b[0m\u001b[0;34m\u001b[0m\u001b[0;34m\u001b[0m\u001b[0m\n\u001b[0m",
      "\u001b[0;31mNameError\u001b[0m: name 'lower' is not defined"
     ]
    }
   ],
   "source": []
  },
  {
   "cell_type": "code",
   "execution_count": null,
   "metadata": {},
   "outputs": [],
   "source": []
  }
 ],
 "metadata": {
  "kernelspec": {
   "display_name": "Python 3",
   "language": "python",
   "name": "python3"
  },
  "language_info": {
   "codemirror_mode": {
    "name": "ipython",
    "version": 3
   },
   "file_extension": ".py",
   "mimetype": "text/x-python",
   "name": "python",
   "nbconvert_exporter": "python",
   "pygments_lexer": "ipython3",
   "version": "3.7.3"
  }
 },
 "nbformat": 4,
 "nbformat_minor": 2
}
